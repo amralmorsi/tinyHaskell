{
 "cells": [
  {
   "cell_type": "code",
   "execution_count": 1,
   "metadata": {},
   "outputs": [
    {
     "ename": "",
     "evalue": "",
     "output_type": "error",
     "traceback": [
      "<interactive>:1:1: error:\n    Could not find module ‘TinyPrelude’\n    Perhaps you meant MyPrelude\n    Use -v (or `:set -v` in ghci) to see a list of the files searched for."
     ]
    }
   ],
   "source": [
    "import Lib\n",
    "import TinyPrelude\n",
    "import Control.Monad ((>=>))\n",
    "import Data.Char (toLower)\n",
    "import qualified Lexer\n",
    "import System.Environment (getArgs)\n",
    "import System.Exit (exitFailure)\n",
    "import Text.Pretty.Simple (pShow, pPrint, pPrintString)"
   ]
  },
  {
   "cell_type": "code",
   "execution_count": null,
   "metadata": {},
   "outputs": [],
   "source": []
  }
 ],
 "metadata": {
  "kernelspec": {
   "display_name": "Haskell",
   "language": "haskell",
   "name": "haskell"
  },
  "language_info": {
   "codemirror_mode": "ihaskell",
   "file_extension": ".hs",
   "mimetype": "text/x-haskell",
   "name": "haskell",
   "pygments_lexer": "Haskell",
   "version": "9.0.2"
  }
 },
 "nbformat": 4,
 "nbformat_minor": 2
}
